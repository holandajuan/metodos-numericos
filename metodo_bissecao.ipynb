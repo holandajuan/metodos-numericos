{
  "nbformat": 4,
  "nbformat_minor": 0,
  "metadata": {
    "colab": {
      "provenance": [],
      "authorship_tag": "ABX9TyOoHBSWL3Zdr/JJ8ZDPdQ99",
      "include_colab_link": true
    },
    "kernelspec": {
      "name": "python3",
      "display_name": "Python 3"
    },
    "language_info": {
      "name": "python"
    }
  },
  "cells": [
    {
      "cell_type": "markdown",
      "metadata": {
        "id": "view-in-github",
        "colab_type": "text"
      },
      "source": [
        "<a href=\"https://colab.research.google.com/github/holandajuan/numerical-methods/blob/main/metodo_bissecao.ipynb\" target=\"_parent\"><img src=\"https://colab.research.google.com/assets/colab-badge.svg\" alt=\"Open In Colab\"/></a>"
      ]
    },
    {
      "cell_type": "markdown",
      "source": [
        "importing libraries"
      ],
      "metadata": {
        "id": "9L4_LTQVF1iP"
      }
    },
    {
      "cell_type": "code",
      "source": [
        "import numpy as np\n",
        "import matplotlib.pyplot as plt"
      ],
      "metadata": {
        "id": "R-sULt0zF8K-"
      },
      "execution_count": 90,
      "outputs": []
    },
    {
      "cell_type": "markdown",
      "source": [
        "Implementation of the bisection method"
      ],
      "metadata": {
        "id": "MQUDmq_pzm9Q"
      }
    },
    {
      "cell_type": "code",
      "execution_count": 78,
      "metadata": {
        "id": "eFhNxYGxpGzT"
      },
      "outputs": [],
      "source": [
        "def bisection(f, a, b, epsilon, max_iterations=50):\n",
        "    \"\"\" Exeuta o método da bisseção para achar a raiz de f\n",
        "        no intevalo [a, b] com nível de precisão episilon. O\n",
        "        método executa no máximo max_iterations iterações.\n",
        "        Retorna uma tupla (Erro(True/False), raiz)\n",
        "    \"\"\"\n",
        "    runs = []\n",
        "    Fa = f(a)\n",
        "    Fb = f(b)\n",
        "\n",
        "    # teste para identificar se f muda de sinal no intervalo [a,b]\n",
        "    if (Fa * Fb > 0):\n",
        "        print(\"ERRO : A função deve ter sinais opostos em a e b\")\n",
        "        return (True, None, runs)\n",
        "\n",
        "    header = (\"k\".center(4) + \"a\".center(12) + \"f(a)\".center(12) +\n",
        "              \"b\".center(12) + \"f(b)\".center(12) + \"x\".center(12) +\n",
        "              \"f(x)\".center(12) + \"intervalo\".center(12))\n",
        "    print(header)\n",
        "    print(\"-\" * len(header))\n",
        "\n",
        "    intervalX = abs(b - a)\n",
        "    x = (a + b)/2\n",
        "    Fx = f(x)\n",
        "\n",
        "    print(f\"{'-':4}{a:12.6f}{Fa:12.6f}{b:12.6f}{Fb:12.6F}\"\n",
        "          f\"{x:12.6f}{Fx:12.6f}{intervalX:12.6f}\")\n",
        "    runs.append((0, a, Fa, b, Fb, x, Fx, intervalX))\n",
        "\n",
        "    if (intervalX <= epsilon):\n",
        "        return (False, x)\n",
        "\n",
        "    k = 1\n",
        "    while (k <= max_iterations):\n",
        "        # verificação de qual intervalo a função muda de sinal para atualizar o novo intervalo\n",
        "        if Fa * Fx > 0:\n",
        "            a = x\n",
        "        else:\n",
        "            b = x\n",
        "            Fb = Fx\n",
        "\n",
        "        intervalX = abs(b - a)\n",
        "        x = (a + b)/2\n",
        "        Fx = f(x)\n",
        "\n",
        "        print(f\"{k:4}{a:12.6f}{Fa:12.6f}{b:12.6f}{Fb:12.6F}\"\n",
        "              f\"{x:12.6f}{Fx:12.6f}{intervalX:12.6f}\")\n",
        "        runs.append((k, a, Fa, b, Fb, x, Fx, intervalX))\n",
        "\n",
        "        if (intervalX <= epsilon):\n",
        "            return(False, x, runs)\n",
        "\n",
        "        k+=1\n",
        "\n",
        "    print(\"ERRO: Número máximo de iterações atingido\")\n",
        "    return (True, x, runs)"
      ]
    },
    {
      "cell_type": "markdown",
      "source": [
        "implementation of the function `f(x)`"
      ],
      "metadata": {
        "id": "VsiVf-R2zvIe"
      }
    },
    {
      "cell_type": "code",
      "source": [
        "def f(x):\n",
        "    return x**3 - 9*x + 3"
      ],
      "metadata": {
        "id": "_SPQO5Y9zGcJ"
      },
      "execution_count": 23,
      "outputs": []
    },
    {
      "cell_type": "markdown",
      "source": [
        "testing `f(x)`"
      ],
      "metadata": {
        "id": "oPMBU2VFzzwn"
      }
    },
    {
      "cell_type": "code",
      "source": [
        "print(f\"f(0): {f(0)}\")\n",
        "print(f\"f(1): {f(1)}\")"
      ],
      "metadata": {
        "colab": {
          "base_uri": "https://localhost:8080/"
        },
        "id": "PCU5jKFPz0-G",
        "outputId": "d13e5aba-b0fe-4fe9-fa1c-0ada4094cf59"
      },
      "execution_count": 25,
      "outputs": [
        {
          "output_type": "stream",
          "name": "stdout",
          "text": [
            "f(0): 3\n",
            "f(1): -5\n"
          ]
        }
      ]
    },
    {
      "cell_type": "markdown",
      "source": [
        "finding values ​​for a and b by noting when f changes sign"
      ],
      "metadata": {
        "id": "96q6Dc-K8jzo"
      }
    },
    {
      "cell_type": "code",
      "source": [
        "x = [-5, -4, -3, -2, -1, 0, 1, 2, 3, 4, 5]\n",
        "# tabela para os valores de x\n",
        "print(\" x | f(x)\")\n",
        "print(\"-----------\")\n",
        "a = []\n",
        "b = []\n",
        "for i,xi in enumerate(x):\n",
        "    print(f\"{xi:2} | {f(xi):5}\")\n",
        "    if (i < len(x)):\n",
        "        if (f(xi)*f(xi+1) < 0):\n",
        "            a.append(xi)\n",
        "            b.append(xi+1)\n",
        "\n",
        "a, b"
      ],
      "metadata": {
        "colab": {
          "base_uri": "https://localhost:8080/"
        },
        "id": "EG_lVCx580Cu",
        "outputId": "cf43a6a1-e746-4c48-b3df-d6013389cc3b"
      },
      "execution_count": 61,
      "outputs": [
        {
          "output_type": "stream",
          "name": "stdout",
          "text": [
            " x | f(x)\n",
            "-----------\n",
            "-5 |   -77\n",
            "-4 |   -25\n",
            "-3 |     3\n",
            "-2 |    13\n",
            "-1 |    11\n",
            " 0 |     3\n",
            " 1 |    -5\n",
            " 2 |    -7\n",
            " 3 |     3\n",
            " 4 |    31\n",
            " 5 |    83\n"
          ]
        },
        {
          "output_type": "execute_result",
          "data": {
            "text/plain": [
              "([-4, 0, 2], [-3, 1, 3])"
            ]
          },
          "metadata": {},
          "execution_count": 61
        }
      ]
    },
    {
      "cell_type": "markdown",
      "source": [
        "setting the parameters for the bisection method and calling the `bisection` function"
      ],
      "metadata": {
        "id": "D2jgmNsh0nze"
      }
    },
    {
      "cell_type": "code",
      "source": [
        "a1 = a[0]\n",
        "b1 = b[0]\n",
        "epsilon = 0.001\n",
        "max_iterations = 20"
      ],
      "metadata": {
        "id": "0UanhOH10y8m"
      },
      "execution_count": 65,
      "outputs": []
    },
    {
      "cell_type": "code",
      "source": [
        "(erro1, raiz1, runs1) = bisection(f, a1, b1, epsilon, max_iterations)"
      ],
      "metadata": {
        "colab": {
          "base_uri": "https://localhost:8080/"
        },
        "id": "NeEx9DM-1w_Y",
        "outputId": "f13b7f1c-d018-4025-e1ea-039a11b8428d"
      },
      "execution_count": 85,
      "outputs": [
        {
          "output_type": "stream",
          "name": "stdout",
          "text": [
            " k       a          f(a)         b          f(b)         x          f(x)     intervalo  \n",
            "----------------------------------------------------------------------------------------\n",
            "-      -4.000000  -25.000000   -3.000000    3.000000   -3.500000   -8.375000    1.000000\n",
            "   1   -3.500000  -25.000000   -3.000000    3.000000   -3.250000   -2.078125    0.500000\n",
            "   2   -3.250000  -25.000000   -3.000000    3.000000   -3.125000    0.607422    0.250000\n",
            "   3   -3.250000  -25.000000   -3.125000    0.607422   -3.187500   -0.697998    0.125000\n",
            "   4   -3.187500  -25.000000   -3.125000    0.607422   -3.156250   -0.036041    0.062500\n",
            "   5   -3.156250  -25.000000   -3.125000    0.607422   -3.140625    0.287991    0.031250\n",
            "   6   -3.156250  -25.000000   -3.140625    0.287991   -3.148438    0.126551    0.015625\n",
            "   7   -3.156250  -25.000000   -3.148438    0.126551   -3.152344    0.045399    0.007812\n",
            "   8   -3.156250  -25.000000   -3.152344    0.045399   -3.154297    0.004715    0.003906\n",
            "   9   -3.156250  -25.000000   -3.154297    0.004715   -3.155273   -0.015654    0.001953\n",
            "  10   -3.155273  -25.000000   -3.154297    0.004715   -3.154785   -0.005467    0.000977\n"
          ]
        }
      ]
    },
    {
      "cell_type": "markdown",
      "source": [
        "analyzing whether there was an error and the roots"
      ],
      "metadata": {
        "id": "EHWz2UHd6K8e"
      }
    },
    {
      "cell_type": "code",
      "source": [
        "if erro1:\n",
        "    print(\"Houve um erro no método da Bisseção\")\n",
        "if raiz1 is not None:\n",
        "    print(f\" Raiz encontrada: {raiz1}\")"
      ],
      "metadata": {
        "colab": {
          "base_uri": "https://localhost:8080/"
        },
        "id": "sXHfw4gD6X1-",
        "outputId": "ca680e7c-0546-4815-f758-a8eaaf26a5f2"
      },
      "execution_count": 83,
      "outputs": [
        {
          "output_type": "stream",
          "name": "stdout",
          "text": [
            " Raiz encontrada: -3.15478515625\n"
          ]
        }
      ]
    },
    {
      "cell_type": "markdown",
      "source": [
        "finding the other roots by substituting the interval [a,b]"
      ],
      "metadata": {
        "id": "y54JTFN7CtMu"
      }
    },
    {
      "cell_type": "code",
      "source": [
        "a2, b2 = a[1], b[1]\n",
        "(erro2, raiz2, runs2) = bisection(f, a2, b2, epsilon, max_iterations)\n",
        "print()\n",
        "if erro2:\n",
        "    print(\"Houve um erro no método da Bisseção\")\n",
        "if raiz2 is not None:\n",
        "    print(f\" Raiz encontrada: {raiz2}\")"
      ],
      "metadata": {
        "colab": {
          "base_uri": "https://localhost:8080/"
        },
        "id": "WDuu7itCC2Td",
        "outputId": "8db189a0-f032-4d11-f498-e3f771e511f9"
      },
      "execution_count": 86,
      "outputs": [
        {
          "output_type": "stream",
          "name": "stdout",
          "text": [
            " k       a          f(a)         b          f(b)         x          f(x)     intervalo  \n",
            "----------------------------------------------------------------------------------------\n",
            "-       0.000000    3.000000    1.000000   -5.000000    0.500000   -1.375000    1.000000\n",
            "   1    0.000000    3.000000    0.500000   -1.375000    0.250000    0.765625    0.500000\n",
            "   2    0.250000    3.000000    0.500000   -1.375000    0.375000   -0.322266    0.250000\n",
            "   3    0.250000    3.000000    0.375000   -0.322266    0.312500    0.218018    0.125000\n",
            "   4    0.312500    3.000000    0.375000   -0.322266    0.343750   -0.053131    0.062500\n",
            "   5    0.312500    3.000000    0.343750   -0.053131    0.328125    0.082203    0.031250\n",
            "   6    0.328125    3.000000    0.343750   -0.053131    0.335938    0.014474    0.015625\n",
            "   7    0.335938    3.000000    0.343750   -0.053131    0.339844   -0.019344    0.007812\n",
            "   8    0.335938    3.000000    0.339844   -0.019344    0.337891   -0.002439    0.003906\n",
            "   9    0.335938    3.000000    0.337891   -0.002439    0.336914    0.006017    0.001953\n",
            "  10    0.336914    3.000000    0.337891   -0.002439    0.337402    0.001789    0.000977\n",
            "\n",
            " Raiz encontrada: 0.33740234375\n"
          ]
        }
      ]
    },
    {
      "cell_type": "code",
      "source": [
        "a3, b3 = a[2], b[2]\n",
        "(erro3, raiz3, runs3) = bisection(f, a3, b3, epsilon, max_iterations)\n",
        "print()\n",
        "if erro3:\n",
        "    print(\"Houve um erro no método da Bisseção\")\n",
        "if raiz3 is not None:\n",
        "    print(f\" Raiz encontrada: {raiz3}\")"
      ],
      "metadata": {
        "colab": {
          "base_uri": "https://localhost:8080/"
        },
        "id": "8nJ3nzH9EAj2",
        "outputId": "e6a4fd5a-55ab-47cb-a986-453b56586b80"
      },
      "execution_count": 87,
      "outputs": [
        {
          "output_type": "stream",
          "name": "stdout",
          "text": [
            " k       a          f(a)         b          f(b)         x          f(x)     intervalo  \n",
            "----------------------------------------------------------------------------------------\n",
            "-       2.000000   -7.000000    3.000000    3.000000    2.500000   -3.875000    1.000000\n",
            "   1    2.500000   -7.000000    3.000000    3.000000    2.750000   -0.953125    0.500000\n",
            "   2    2.750000   -7.000000    3.000000    3.000000    2.875000    0.888672    0.250000\n",
            "   3    2.750000   -7.000000    2.875000    0.888672    2.812500   -0.065186    0.125000\n",
            "   4    2.812500   -7.000000    2.875000    0.888672    2.843750    0.403412    0.062500\n",
            "   5    2.812500   -7.000000    2.843750    0.403412    2.828125    0.167042    0.031250\n",
            "   6    2.812500   -7.000000    2.828125    0.167042    2.820312    0.050412    0.015625\n",
            "   7    2.812500   -7.000000    2.820312    0.050412    2.816406   -0.007516    0.007812\n",
            "   8    2.816406   -7.000000    2.820312    0.050412    2.818359    0.021416    0.003906\n",
            "   9    2.816406   -7.000000    2.818359    0.021416    2.817383    0.006942    0.001953\n",
            "  10    2.816406   -7.000000    2.817383    0.006942    2.816895   -0.000289    0.000977\n",
            "\n",
            " Raiz encontrada: 2.81689453125\n"
          ]
        }
      ]
    },
    {
      "cell_type": "markdown",
      "source": [
        "confirming the roots of the function"
      ],
      "metadata": {
        "id": "M9nA9fTcEKpl"
      }
    },
    {
      "cell_type": "code",
      "source": [
        "# Deve ser ≈ 0\n",
        "print(f(raiz1))\n",
        "print(f(raiz2))\n",
        "print(f(raiz3))"
      ],
      "metadata": {
        "colab": {
          "base_uri": "https://localhost:8080/"
        },
        "id": "7YdD6UO7EQ6N",
        "outputId": "32b738b1-17f5-47b1-cbb5-37c7bff082a6"
      },
      "execution_count": 77,
      "outputs": [
        {
          "output_type": "stream",
          "name": "stdout",
          "text": [
            "-0.005467225448228419\n",
            "0.0017889043083414435\n",
            "-0.00028901256155222654\n"
          ]
        }
      ]
    },
    {
      "cell_type": "markdown",
      "source": [
        "example of graphs for the second root parameters"
      ],
      "metadata": {
        "id": "ivfZq805Gdu9"
      }
    },
    {
      "cell_type": "code",
      "source": [
        "x = []\n",
        "y = []\n",
        "z = []\n",
        "\n",
        "for r in runs2:\n",
        "    x.append(r[0]) # r[0] -> k\n",
        "    y.append(r[6]) # r[5] -> Fx\n",
        "    z.append(r[7]) # r[7] -> intervalX\n",
        "\n",
        "plt.figure(figsize=(9, 3))\n",
        "plt.subplot(1, 2, 1)\n",
        "plt.plot(x, y, 'b-')\n",
        "plt.grid(True)\n",
        "plt.title('Erro absoluto de f(x) em cada iteração')\n",
        "\n",
        "plt.subplot(1,2,2)\n",
        "plt.plot(x, z, 'r-')\n",
        "plt.ylim(min(z) - 0.5, max(z)+ 0.5)\n",
        "plt.grid(True)\n",
        "plt.title('Tamanho do intervalo em cada iteração')\n",
        "\n",
        "plt.show();"
      ],
      "metadata": {
        "colab": {
          "base_uri": "https://localhost:8080/",
          "height": 314
        },
        "id": "XYtRO2UfGgB1",
        "outputId": "830a9f48-2e65-4278-c2ff-30fbeafe3d7f"
      },
      "execution_count": 124,
      "outputs": [
        {
          "output_type": "display_data",
          "data": {
            "text/plain": [
              "<Figure size 900x300 with 2 Axes>"
            ],
            "image/png": "[encoded data removed]"
          },
          "metadata": {}
        }
      ]
    }
  ]
}